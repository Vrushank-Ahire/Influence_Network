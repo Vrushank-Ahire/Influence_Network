{
  "nbformat": 4,
  "nbformat_minor": 0,
  "metadata": {
    "colab": {
      "provenance": []
    },
    "kernelspec": {
      "name": "python3",
      "display_name": "Python 3"
    },
    "language_info": {
      "name": "python"
    }
  },
  "cells": [
    {
      "cell_type": "markdown",
      "source": [
        "# **Performing Preprocessing & EDA on the given data**"
      ],
      "metadata": {
        "id": "HHg0ROPGWTy_"
      }
    },
    {
      "cell_type": "code",
      "source": [
        "#Code For Preprocessing of The Network Data\n",
        "\n",
        "import pandas as pd\n",
        "\n",
        "og_dataset = pd.read_excel(\"/content/drive/MyDrive/Colab Notebooks/Impression_Network_Dataset_CS101_2024.xlsx\")\n",
        "new_dataset = pd.DataFrame()"
      ],
      "metadata": {
        "id": "c--ufQuY6bkU"
      },
      "execution_count": 1,
      "outputs": []
    },
    {
      "cell_type": "code",
      "source": [
        "#Making Everything to uppercase so that uniformity remains in code ##exception was found at '2020mcb1225', '2020MCB1225'\n",
        "og_dataset = og_dataset.applymap(lambda x: x.upper() if isinstance(x, str) else x)\n",
        "\n",
        "# Extract roll numbers from email addresses\n",
        "new_dataset['Roll Number'] = og_dataset['Email Address'].str.split('@').str[0]\t#Extraction based on string seperated by ('@')\n",
        "\n",
        "\n",
        "# Extract roll numbers from Impression columns\n",
        "for i in range(1, 31):\n",
        "    column_name = f'Your Impression {i}'  # Construct column name\n",
        "    new_dataset[column_name] = og_dataset[column_name].str.split(' ').str[-1]   #Extraction based on last entity of string seperated by (' ') space\n"
      ],
      "metadata": {
        "id": "0iYmMYqEEpCS"
      },
      "execution_count": 2,
      "outputs": []
    },
    {
      "cell_type": "code",
      "source": [
        "# Create an empty dictionary to store roll numbers and names\n",
        "roll_name_map = {}\n",
        "\n",
        "# Iterate over each column\n",
        "for col in og_dataset.columns[2:]:\n",
        "    # Iterate over each row in the column\n",
        "    for impression in og_dataset[col]:\n",
        "        if pd.notna(impression):  # Check if impression is not NaN\n",
        "            parts = list(impression.split(' '))  # Split the impression into parts\n",
        "            name = ' '.join(parts[:-1])  # Join all parts except the last one to get the name\n",
        "            roll_number = parts[-1]  # Get the last part as roll number\n",
        "            roll_name_map[roll_number] = name  # Update the roll_name_map dictionary\n",
        "\n",
        "\n",
        "missing_roll_numbers = []\n",
        "\n",
        "# Iterate over keys in roll_name_map\n",
        "for roll_number in roll_name_map.keys():\n",
        "    # Check if the roll number is not already in the 'Roll Number' column\n",
        "    if roll_number not in new_dataset['Roll Number'].values:\n",
        "        # Append the roll number to the list\n",
        "        missing_roll_numbers.append(roll_number)\n",
        "\n",
        "# Create a DataFrame for missing roll numbers\n",
        "missing_roll_numbers_df = pd.DataFrame({'Roll Number': missing_roll_numbers})\n",
        "\n",
        "# Concatenate the original DataFrame with the DataFrame containing missing roll numbers\n",
        "new_dataset = pd.concat([new_dataset, missing_roll_numbers_df], ignore_index=True)\n",
        "\n",
        "\n",
        "# Map roll numbers to names and add a new \"Name\" column\n",
        "new_dataset['Name'] = new_dataset['Roll Number'].map(roll_name_map)"
      ],
      "metadata": {
        "id": "AiGNYiaDExE8"
      },
      "execution_count": 3,
      "outputs": []
    },
    {
      "cell_type": "code",
      "source": [
        "# Move \"Name\" column to the first position\n",
        "name_column = new_dataset['Name']  # Assuming you have a \"Name\" column\n",
        "new_dataset.drop(labels=['Name'], axis=1, inplace=True)  # Remove \"Name\" column from DataFrame\n",
        "new_dataset.insert(0, 'Name', name_column)  # Insert \"Name\" column at the first position"
      ],
      "metadata": {
        "id": "HZHLFG6dE27d"
      },
      "execution_count": 4,
      "outputs": []
    },
    {
      "cell_type": "code",
      "source": [
        "#Remove (Make '0') all those entries of friend where person has written his/her own roll number\n",
        "# Iterate through each unique roll number in the 'Roll Number' column\n",
        "for index, row in new_dataset.iterrows():\n",
        "  roll_number = new_dataset['Roll Number'][index]\n",
        "  for column, value in row.iloc[2:].items():  # Iterate over items in each row starting from the third column\n",
        "    if(value==roll_number):\n",
        "      # Set the value at position (index, column) to zero\n",
        "      new_dataset.loc[index, column] = 0"
      ],
      "metadata": {
        "id": "ovmeaV7FE8OT"
      },
      "execution_count": 5,
      "outputs": []
    },
    {
      "cell_type": "code",
      "source": [
        "# Replace NaN values with 0\n",
        "new_dataset = new_dataset.fillna(0)"
      ],
      "metadata": {
        "id": "aivtO1mhFBFF"
      },
      "execution_count": 6,
      "outputs": []
    },
    {
      "cell_type": "code",
      "source": [
        "# Export DataFrame to Excel\n",
        "new_dataset.to_excel('/content/drive/MyDrive/Colab Notebooks/Modified Network Dataset.xlsx', index=False)"
      ],
      "metadata": {
        "id": "3kd0_Y91FDEl"
      },
      "execution_count": 7,
      "outputs": []
    },
    {
      "cell_type": "markdown",
      "source": [
        "# This **Modified Network Dataset.xlsx** is used in Task1 , Task2 & Task3 ."
      ],
      "metadata": {
        "id": "CHetucy0WyyB"
      }
    }
  ]
}